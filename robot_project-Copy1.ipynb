{
 "cells": [
  {
   "cell_type": "code",
   "execution_count": 7,
   "metadata": {},
   "outputs": [],
   "source": [
    "# 导入依赖库\n",
    "from matplotlib import pyplot as plt\n",
    "%matplotlib inline\n",
    "import pandas as pd\n",
    "import numpy as np\n",
    "import warnings\n",
    "warnings.filterwarnings(\"ignore\")\n",
    "#加载数据\n",
    "#读取过程用python编译\n",
    "data = pd.read_csv('xiaomidata.csv')"
   ]
  },
  {
   "cell_type": "markdown",
   "metadata": {},
   "source": [
    "## 1.数据探索和问题分析\n"
   ]
  },
  {
   "cell_type": "markdown",
   "metadata": {},
   "source": [
    "### 编程练习\n",
    "打印数据集的前5行数据"
   ]
  },
  {
   "cell_type": "code",
   "execution_count": 8,
   "metadata": {},
   "outputs": [
    {
     "data": {
      "text/html": [
       "<div>\n",
       "<style scoped>\n",
       "    .dataframe tbody tr th:only-of-type {\n",
       "        vertical-align: middle;\n",
       "    }\n",
       "\n",
       "    .dataframe tbody tr th {\n",
       "        vertical-align: top;\n",
       "    }\n",
       "\n",
       "    .dataframe thead th {\n",
       "        text-align: right;\n",
       "    }\n",
       "</style>\n",
       "<table border=\"1\" class=\"dataframe\">\n",
       "  <thead>\n",
       "    <tr style=\"text-align: right;\">\n",
       "      <th></th>\n",
       "      <th>X0</th>\n",
       "      <th>X1</th>\n",
       "      <th>X2</th>\n",
       "      <th>X3</th>\n",
       "      <th>X4</th>\n",
       "      <th>X5</th>\n",
       "      <th>X6</th>\n",
       "      <th>X7</th>\n",
       "      <th>X8</th>\n",
       "      <th>X9</th>\n",
       "      <th>...</th>\n",
       "      <th>X19</th>\n",
       "      <th>X20</th>\n",
       "      <th>X21</th>\n",
       "      <th>X22</th>\n",
       "      <th>X23</th>\n",
       "      <th>front</th>\n",
       "      <th>left</th>\n",
       "      <th>right</th>\n",
       "      <th>back</th>\n",
       "      <th>label</th>\n",
       "    </tr>\n",
       "  </thead>\n",
       "  <tbody>\n",
       "    <tr>\n",
       "      <th>0</th>\n",
       "      <td>0.984</td>\n",
       "      <td>1.421</td>\n",
       "      <td>2.548</td>\n",
       "      <td>2.544</td>\n",
       "      <td>2.714</td>\n",
       "      <td>5.000</td>\n",
       "      <td>5.000</td>\n",
       "      <td>3.202</td>\n",
       "      <td>3.192</td>\n",
       "      <td>2.689</td>\n",
       "      <td>...</td>\n",
       "      <td>0.398</td>\n",
       "      <td>0.850</td>\n",
       "      <td>0.853</td>\n",
       "      <td>0.940</td>\n",
       "      <td>0.968</td>\n",
       "      <td>1.671</td>\n",
       "      <td>0.398</td>\n",
       "      <td>2.714</td>\n",
       "      <td>0.940</td>\n",
       "      <td>3</td>\n",
       "    </tr>\n",
       "    <tr>\n",
       "      <th>1</th>\n",
       "      <td>2.611</td>\n",
       "      <td>3.102</td>\n",
       "      <td>5.000</td>\n",
       "      <td>5.000</td>\n",
       "      <td>5.000</td>\n",
       "      <td>1.644</td>\n",
       "      <td>1.584</td>\n",
       "      <td>1.564</td>\n",
       "      <td>1.574</td>\n",
       "      <td>2.656</td>\n",
       "      <td>...</td>\n",
       "      <td>0.652</td>\n",
       "      <td>0.660</td>\n",
       "      <td>5.000</td>\n",
       "      <td>1.353</td>\n",
       "      <td>1.902</td>\n",
       "      <td>0.882</td>\n",
       "      <td>0.652</td>\n",
       "      <td>1.564</td>\n",
       "      <td>1.353</td>\n",
       "      <td>2</td>\n",
       "    </tr>\n",
       "    <tr>\n",
       "      <th>2</th>\n",
       "      <td>0.482</td>\n",
       "      <td>1.523</td>\n",
       "      <td>1.413</td>\n",
       "      <td>1.393</td>\n",
       "      <td>1.404</td>\n",
       "      <td>1.420</td>\n",
       "      <td>1.451</td>\n",
       "      <td>2.639</td>\n",
       "      <td>2.659</td>\n",
       "      <td>3.265</td>\n",
       "      <td>...</td>\n",
       "      <td>0.455</td>\n",
       "      <td>0.432</td>\n",
       "      <td>0.426</td>\n",
       "      <td>0.434</td>\n",
       "      <td>0.472</td>\n",
       "      <td>0.869</td>\n",
       "      <td>0.455</td>\n",
       "      <td>1.404</td>\n",
       "      <td>0.434</td>\n",
       "      <td>2</td>\n",
       "    </tr>\n",
       "    <tr>\n",
       "      <th>3</th>\n",
       "      <td>1.773</td>\n",
       "      <td>1.818</td>\n",
       "      <td>2.751</td>\n",
       "      <td>1.963</td>\n",
       "      <td>1.953</td>\n",
       "      <td>1.970</td>\n",
       "      <td>2.459</td>\n",
       "      <td>2.004</td>\n",
       "      <td>2.424</td>\n",
       "      <td>1.967</td>\n",
       "      <td>...</td>\n",
       "      <td>0.579</td>\n",
       "      <td>0.754</td>\n",
       "      <td>1.754</td>\n",
       "      <td>1.743</td>\n",
       "      <td>1.752</td>\n",
       "      <td>1.952</td>\n",
       "      <td>0.579</td>\n",
       "      <td>1.953</td>\n",
       "      <td>1.743</td>\n",
       "      <td>1</td>\n",
       "    </tr>\n",
       "    <tr>\n",
       "      <th>4</th>\n",
       "      <td>1.083</td>\n",
       "      <td>1.777</td>\n",
       "      <td>3.225</td>\n",
       "      <td>5.000</td>\n",
       "      <td>5.000</td>\n",
       "      <td>1.909</td>\n",
       "      <td>1.988</td>\n",
       "      <td>1.840</td>\n",
       "      <td>5.000</td>\n",
       "      <td>1.793</td>\n",
       "      <td>...</td>\n",
       "      <td>0.493</td>\n",
       "      <td>1.041</td>\n",
       "      <td>1.013</td>\n",
       "      <td>1.025</td>\n",
       "      <td>1.056</td>\n",
       "      <td>1.541</td>\n",
       "      <td>0.452</td>\n",
       "      <td>1.840</td>\n",
       "      <td>1.025</td>\n",
       "      <td>3</td>\n",
       "    </tr>\n",
       "  </tbody>\n",
       "</table>\n",
       "<p>5 rows × 29 columns</p>\n",
       "</div>"
      ],
      "text/plain": [
       "      X0     X1     X2     X3     X4     X5     X6     X7     X8     X9  \\\n",
       "0  0.984  1.421  2.548  2.544  2.714  5.000  5.000  3.202  3.192  2.689   \n",
       "1  2.611  3.102  5.000  5.000  5.000  1.644  1.584  1.564  1.574  2.656   \n",
       "2  0.482  1.523  1.413  1.393  1.404  1.420  1.451  2.639  2.659  3.265   \n",
       "3  1.773  1.818  2.751  1.963  1.953  1.970  2.459  2.004  2.424  1.967   \n",
       "4  1.083  1.777  3.225  5.000  5.000  1.909  1.988  1.840  5.000  1.793   \n",
       "\n",
       "   ...      X19    X20    X21    X22    X23  front   left  right   back  label  \n",
       "0  ...    0.398  0.850  0.853  0.940  0.968  1.671  0.398  2.714  0.940      3  \n",
       "1  ...    0.652  0.660  5.000  1.353  1.902  0.882  0.652  1.564  1.353      2  \n",
       "2  ...    0.455  0.432  0.426  0.434  0.472  0.869  0.455  1.404  0.434      2  \n",
       "3  ...    0.579  0.754  1.754  1.743  1.752  1.952  0.579  1.953  1.743      1  \n",
       "4  ...    0.493  1.041  1.013  1.025  1.056  1.541  0.452  1.840  1.025      3  \n",
       "\n",
       "[5 rows x 29 columns]"
      ]
     },
     "execution_count": 8,
     "metadata": {},
     "output_type": "execute_result"
    }
   ],
   "source": [
    "# TODO：打印data的前五行数据\n",
    "data.head(5)"
   ]
  },
  {
   "cell_type": "code",
   "execution_count": 12,
   "metadata": {},
   "outputs": [
    {
     "data": {
      "text/plain": [
       "4865"
      ]
     },
     "execution_count": 12,
     "metadata": {},
     "output_type": "execute_result"
    }
   ],
   "source": [
    "len(data)"
   ]
  },
  {
   "cell_type": "markdown",
   "metadata": {},
   "source": [
    "### 编程练习\n",
    "统计数据中的缺失值的数量\n",
    "- 统计数据集有多少行有缺失\n",
    "- 统计数据集有多少列有缺失"
   ]
  },
  {
   "cell_type": "code",
   "execution_count": 4,
   "metadata": {},
   "outputs": [
    {
     "name": "stdout",
     "output_type": "stream",
     "text": [
      "0\n",
      "0\n"
     ]
    }
   ],
   "source": [
    "# TODO：统计数据集中有多少行、列存在缺失\n",
    "print(((data.isnull()).sum(axis=1)>0).sum())\n",
    "print(((data.isnull()).sum(axis=0)>0).sum())"
   ]
  },
  {
   "cell_type": "markdown",
   "metadata": {},
   "source": [
    "### 编程练习\n",
    "统计数据中的重复样本的数量\n",
    "- 统计数据集有多少行重复"
   ]
  },
  {
   "cell_type": "code",
   "execution_count": 5,
   "metadata": {},
   "outputs": [
    {
     "data": {
      "text/plain": [
       "0"
      ]
     },
     "execution_count": 5,
     "metadata": {},
     "output_type": "execute_result"
    }
   ],
   "source": [
    "# TODO：统计数据集中有多少行重复\n",
    "data.duplicated().sum()"
   ]
  },
  {
   "cell_type": "markdown",
   "metadata": {},
   "source": [
    "## 2.清洗数据\n",
    "### 编程练习\n",
    "查看data数据集中标签('Class')的分布"
   ]
  },
  {
   "cell_type": "code",
   "execution_count": 7,
   "metadata": {
    "scrolled": false
   },
   "outputs": [
    {
     "data": {
      "text/plain": [
       "1    1964\n",
       "2    1860\n",
       "3     737\n",
       "4     304\n",
       "Name: label, dtype: int64"
      ]
     },
     "execution_count": 7,
     "metadata": {},
     "output_type": "execute_result"
    }
   ],
   "source": [
    "# TODO：查看data数据中Class的各类别比例\n",
    "data['label'].value_counts()"
   ]
  },
  {
   "cell_type": "markdown",
   "metadata": {},
   "source": [
    "使用describe函数查看data数据集中各列特征的分布\n",
    "<br><br>\n",
    "对结果使用转置可一次性展示"
   ]
  },
  {
   "cell_type": "code",
   "execution_count": 8,
   "metadata": {
    "scrolled": true
   },
   "outputs": [
    {
     "data": {
      "text/html": [
       "<div>\n",
       "<style scoped>\n",
       "    .dataframe tbody tr th:only-of-type {\n",
       "        vertical-align: middle;\n",
       "    }\n",
       "\n",
       "    .dataframe tbody tr th {\n",
       "        vertical-align: top;\n",
       "    }\n",
       "\n",
       "    .dataframe thead th {\n",
       "        text-align: right;\n",
       "    }\n",
       "</style>\n",
       "<table border=\"1\" class=\"dataframe\">\n",
       "  <thead>\n",
       "    <tr style=\"text-align: right;\">\n",
       "      <th></th>\n",
       "      <th>count</th>\n",
       "      <th>mean</th>\n",
       "      <th>std</th>\n",
       "      <th>min</th>\n",
       "      <th>25%</th>\n",
       "      <th>50%</th>\n",
       "      <th>75%</th>\n",
       "      <th>max</th>\n",
       "    </tr>\n",
       "  </thead>\n",
       "  <tbody>\n",
       "    <tr>\n",
       "      <th>X0</th>\n",
       "      <td>4865.0</td>\n",
       "      <td>1.467605</td>\n",
       "      <td>0.798470</td>\n",
       "      <td>0.400</td>\n",
       "      <td>0.918</td>\n",
       "      <td>1.333</td>\n",
       "      <td>1.814</td>\n",
       "      <td>5.000</td>\n",
       "    </tr>\n",
       "    <tr>\n",
       "      <th>X1</th>\n",
       "      <td>4865.0</td>\n",
       "      <td>2.336053</td>\n",
       "      <td>1.419971</td>\n",
       "      <td>0.437</td>\n",
       "      <td>1.361</td>\n",
       "      <td>1.905</td>\n",
       "      <td>2.724</td>\n",
       "      <td>5.021</td>\n",
       "    </tr>\n",
       "    <tr>\n",
       "      <th>X2</th>\n",
       "      <td>4865.0</td>\n",
       "      <td>2.493576</td>\n",
       "      <td>1.255008</td>\n",
       "      <td>0.470</td>\n",
       "      <td>1.535</td>\n",
       "      <td>2.057</td>\n",
       "      <td>2.751</td>\n",
       "      <td>5.029</td>\n",
       "    </tr>\n",
       "    <tr>\n",
       "      <th>X3</th>\n",
       "      <td>4865.0</td>\n",
       "      <td>2.803572</td>\n",
       "      <td>1.314571</td>\n",
       "      <td>0.833</td>\n",
       "      <td>1.730</td>\n",
       "      <td>2.457</td>\n",
       "      <td>4.118</td>\n",
       "      <td>5.017</td>\n",
       "    </tr>\n",
       "    <tr>\n",
       "      <th>X4</th>\n",
       "      <td>4865.0</td>\n",
       "      <td>2.954102</td>\n",
       "      <td>1.338348</td>\n",
       "      <td>1.120</td>\n",
       "      <td>1.770</td>\n",
       "      <td>2.667</td>\n",
       "      <td>4.306</td>\n",
       "      <td>5.000</td>\n",
       "    </tr>\n",
       "    <tr>\n",
       "      <th>X5</th>\n",
       "      <td>4865.0</td>\n",
       "      <td>2.889923</td>\n",
       "      <td>1.280778</td>\n",
       "      <td>1.114</td>\n",
       "      <td>1.784</td>\n",
       "      <td>2.679</td>\n",
       "      <td>3.831</td>\n",
       "      <td>5.000</td>\n",
       "    </tr>\n",
       "    <tr>\n",
       "      <th>X6</th>\n",
       "      <td>4865.0</td>\n",
       "      <td>3.348780</td>\n",
       "      <td>1.414048</td>\n",
       "      <td>1.122</td>\n",
       "      <td>1.930</td>\n",
       "      <td>3.225</td>\n",
       "      <td>5.000</td>\n",
       "      <td>5.008</td>\n",
       "    </tr>\n",
       "    <tr>\n",
       "      <th>X7</th>\n",
       "      <td>4865.0</td>\n",
       "      <td>2.535988</td>\n",
       "      <td>1.107462</td>\n",
       "      <td>0.859</td>\n",
       "      <td>1.617</td>\n",
       "      <td>2.173</td>\n",
       "      <td>3.184</td>\n",
       "      <td>5.087</td>\n",
       "    </tr>\n",
       "    <tr>\n",
       "      <th>X8</th>\n",
       "      <td>4865.0</td>\n",
       "      <td>3.118992</td>\n",
       "      <td>1.354821</td>\n",
       "      <td>0.836</td>\n",
       "      <td>1.798</td>\n",
       "      <td>2.798</td>\n",
       "      <td>5.000</td>\n",
       "      <td>5.000</td>\n",
       "    </tr>\n",
       "    <tr>\n",
       "      <th>X9</th>\n",
       "      <td>4865.0</td>\n",
       "      <td>2.828909</td>\n",
       "      <td>1.303520</td>\n",
       "      <td>0.810</td>\n",
       "      <td>1.636</td>\n",
       "      <td>2.681</td>\n",
       "      <td>3.491</td>\n",
       "      <td>5.022</td>\n",
       "    </tr>\n",
       "    <tr>\n",
       "      <th>X10</th>\n",
       "      <td>4865.0</td>\n",
       "      <td>2.547027</td>\n",
       "      <td>1.382044</td>\n",
       "      <td>0.790</td>\n",
       "      <td>1.577</td>\n",
       "      <td>1.991</td>\n",
       "      <td>3.220</td>\n",
       "      <td>5.019</td>\n",
       "    </tr>\n",
       "    <tr>\n",
       "      <th>X11</th>\n",
       "      <td>4865.0</td>\n",
       "      <td>2.085042</td>\n",
       "      <td>1.257455</td>\n",
       "      <td>0.779</td>\n",
       "      <td>1.298</td>\n",
       "      <td>1.689</td>\n",
       "      <td>2.289</td>\n",
       "      <td>5.000</td>\n",
       "    </tr>\n",
       "    <tr>\n",
       "      <th>X12</th>\n",
       "      <td>4865.0</td>\n",
       "      <td>2.128162</td>\n",
       "      <td>1.410548</td>\n",
       "      <td>0.770</td>\n",
       "      <td>1.188</td>\n",
       "      <td>1.609</td>\n",
       "      <td>2.357</td>\n",
       "      <td>5.003</td>\n",
       "    </tr>\n",
       "    <tr>\n",
       "      <th>X13</th>\n",
       "      <td>4865.0</td>\n",
       "      <td>2.193581</td>\n",
       "      <td>1.577441</td>\n",
       "      <td>0.756</td>\n",
       "      <td>1.033</td>\n",
       "      <td>1.495</td>\n",
       "      <td>2.739</td>\n",
       "      <td>5.000</td>\n",
       "    </tr>\n",
       "    <tr>\n",
       "      <th>X14</th>\n",
       "      <td>4865.0</td>\n",
       "      <td>2.206969</td>\n",
       "      <td>1.715595</td>\n",
       "      <td>0.495</td>\n",
       "      <td>0.861</td>\n",
       "      <td>1.330</td>\n",
       "      <td>4.451</td>\n",
       "      <td>5.000</td>\n",
       "    </tr>\n",
       "    <tr>\n",
       "      <th>X15</th>\n",
       "      <td>4865.0</td>\n",
       "      <td>1.205388</td>\n",
       "      <td>1.099997</td>\n",
       "      <td>0.424</td>\n",
       "      <td>0.690</td>\n",
       "      <td>0.803</td>\n",
       "      <td>1.164</td>\n",
       "      <td>5.000</td>\n",
       "    </tr>\n",
       "    <tr>\n",
       "      <th>X16</th>\n",
       "      <td>4865.0</td>\n",
       "      <td>0.985801</td>\n",
       "      <td>0.931897</td>\n",
       "      <td>0.373</td>\n",
       "      <td>0.581</td>\n",
       "      <td>0.738</td>\n",
       "      <td>0.914</td>\n",
       "      <td>5.000</td>\n",
       "    </tr>\n",
       "    <tr>\n",
       "      <th>X17</th>\n",
       "      <td>4865.0</td>\n",
       "      <td>0.910603</td>\n",
       "      <td>0.885487</td>\n",
       "      <td>0.356</td>\n",
       "      <td>0.532</td>\n",
       "      <td>0.686</td>\n",
       "      <td>0.838</td>\n",
       "      <td>5.000</td>\n",
       "    </tr>\n",
       "    <tr>\n",
       "      <th>X18</th>\n",
       "      <td>4865.0</td>\n",
       "      <td>1.066991</td>\n",
       "      <td>1.154326</td>\n",
       "      <td>0.340</td>\n",
       "      <td>0.526</td>\n",
       "      <td>0.692</td>\n",
       "      <td>0.861</td>\n",
       "      <td>5.000</td>\n",
       "    </tr>\n",
       "    <tr>\n",
       "      <th>X19</th>\n",
       "      <td>4865.0</td>\n",
       "      <td>1.080604</td>\n",
       "      <td>1.144503</td>\n",
       "      <td>0.355</td>\n",
       "      <td>0.542</td>\n",
       "      <td>0.693</td>\n",
       "      <td>0.867</td>\n",
       "      <td>5.000</td>\n",
       "    </tr>\n",
       "    <tr>\n",
       "      <th>X20</th>\n",
       "      <td>4865.0</td>\n",
       "      <td>1.010232</td>\n",
       "      <td>0.878068</td>\n",
       "      <td>0.380</td>\n",
       "      <td>0.567</td>\n",
       "      <td>0.762</td>\n",
       "      <td>1.000</td>\n",
       "      <td>5.000</td>\n",
       "    </tr>\n",
       "    <tr>\n",
       "      <th>X21</th>\n",
       "      <td>4865.0</td>\n",
       "      <td>1.784400</td>\n",
       "      <td>1.578239</td>\n",
       "      <td>0.370</td>\n",
       "      <td>0.741</td>\n",
       "      <td>1.032</td>\n",
       "      <td>2.070</td>\n",
       "      <td>5.000</td>\n",
       "    </tr>\n",
       "    <tr>\n",
       "      <th>X22</th>\n",
       "      <td>4865.0</td>\n",
       "      <td>1.552223</td>\n",
       "      <td>1.293637</td>\n",
       "      <td>0.367</td>\n",
       "      <td>0.788</td>\n",
       "      <td>1.070</td>\n",
       "      <td>1.561</td>\n",
       "      <td>5.000</td>\n",
       "    </tr>\n",
       "    <tr>\n",
       "      <th>X23</th>\n",
       "      <td>4865.0</td>\n",
       "      <td>1.579153</td>\n",
       "      <td>1.155596</td>\n",
       "      <td>0.377</td>\n",
       "      <td>0.881</td>\n",
       "      <td>1.289</td>\n",
       "      <td>1.661</td>\n",
       "      <td>5.000</td>\n",
       "    </tr>\n",
       "    <tr>\n",
       "      <th>front</th>\n",
       "      <td>4865.0</td>\n",
       "      <td>1.296305</td>\n",
       "      <td>0.631480</td>\n",
       "      <td>0.495</td>\n",
       "      <td>0.827</td>\n",
       "      <td>1.096</td>\n",
       "      <td>1.525</td>\n",
       "      <td>5.000</td>\n",
       "    </tr>\n",
       "    <tr>\n",
       "      <th>left</th>\n",
       "      <td>4865.0</td>\n",
       "      <td>0.681880</td>\n",
       "      <td>0.335766</td>\n",
       "      <td>0.340</td>\n",
       "      <td>0.496</td>\n",
       "      <td>0.613</td>\n",
       "      <td>0.753</td>\n",
       "      <td>5.000</td>\n",
       "    </tr>\n",
       "    <tr>\n",
       "      <th>right</th>\n",
       "      <td>4865.0</td>\n",
       "      <td>1.880467</td>\n",
       "      <td>0.563307</td>\n",
       "      <td>0.836</td>\n",
       "      <td>1.472</td>\n",
       "      <td>1.750</td>\n",
       "      <td>2.137</td>\n",
       "      <td>5.000</td>\n",
       "    </tr>\n",
       "    <tr>\n",
       "      <th>back</th>\n",
       "      <td>4865.0</td>\n",
       "      <td>1.274750</td>\n",
       "      <td>0.833034</td>\n",
       "      <td>0.367</td>\n",
       "      <td>0.783</td>\n",
       "      <td>1.065</td>\n",
       "      <td>1.397</td>\n",
       "      <td>5.000</td>\n",
       "    </tr>\n",
       "  </tbody>\n",
       "</table>\n",
       "</div>"
      ],
      "text/plain": [
       "        count      mean       std    min    25%    50%    75%    max\n",
       "X0     4865.0  1.467605  0.798470  0.400  0.918  1.333  1.814  5.000\n",
       "X1     4865.0  2.336053  1.419971  0.437  1.361  1.905  2.724  5.021\n",
       "X2     4865.0  2.493576  1.255008  0.470  1.535  2.057  2.751  5.029\n",
       "X3     4865.0  2.803572  1.314571  0.833  1.730  2.457  4.118  5.017\n",
       "X4     4865.0  2.954102  1.338348  1.120  1.770  2.667  4.306  5.000\n",
       "X5     4865.0  2.889923  1.280778  1.114  1.784  2.679  3.831  5.000\n",
       "X6     4865.0  3.348780  1.414048  1.122  1.930  3.225  5.000  5.008\n",
       "X7     4865.0  2.535988  1.107462  0.859  1.617  2.173  3.184  5.087\n",
       "X8     4865.0  3.118992  1.354821  0.836  1.798  2.798  5.000  5.000\n",
       "X9     4865.0  2.828909  1.303520  0.810  1.636  2.681  3.491  5.022\n",
       "X10    4865.0  2.547027  1.382044  0.790  1.577  1.991  3.220  5.019\n",
       "X11    4865.0  2.085042  1.257455  0.779  1.298  1.689  2.289  5.000\n",
       "X12    4865.0  2.128162  1.410548  0.770  1.188  1.609  2.357  5.003\n",
       "X13    4865.0  2.193581  1.577441  0.756  1.033  1.495  2.739  5.000\n",
       "X14    4865.0  2.206969  1.715595  0.495  0.861  1.330  4.451  5.000\n",
       "X15    4865.0  1.205388  1.099997  0.424  0.690  0.803  1.164  5.000\n",
       "X16    4865.0  0.985801  0.931897  0.373  0.581  0.738  0.914  5.000\n",
       "X17    4865.0  0.910603  0.885487  0.356  0.532  0.686  0.838  5.000\n",
       "X18    4865.0  1.066991  1.154326  0.340  0.526  0.692  0.861  5.000\n",
       "X19    4865.0  1.080604  1.144503  0.355  0.542  0.693  0.867  5.000\n",
       "X20    4865.0  1.010232  0.878068  0.380  0.567  0.762  1.000  5.000\n",
       "X21    4865.0  1.784400  1.578239  0.370  0.741  1.032  2.070  5.000\n",
       "X22    4865.0  1.552223  1.293637  0.367  0.788  1.070  1.561  5.000\n",
       "X23    4865.0  1.579153  1.155596  0.377  0.881  1.289  1.661  5.000\n",
       "front  4865.0  1.296305  0.631480  0.495  0.827  1.096  1.525  5.000\n",
       "left   4865.0  0.681880  0.335766  0.340  0.496  0.613  0.753  5.000\n",
       "right  4865.0  1.880467  0.563307  0.836  1.472  1.750  2.137  5.000\n",
       "back   4865.0  1.274750  0.833034  0.367  0.783  1.065  1.397  5.000"
      ]
     },
     "execution_count": 8,
     "metadata": {},
     "output_type": "execute_result"
    }
   ],
   "source": [
    "# TODO：用表格描述数据中特征的分布\n",
    "data.drop(['label'],axis=1).describe().T"
   ]
  },
  {
   "cell_type": "code",
   "execution_count": 10,
   "metadata": {},
   "outputs": [
    {
     "data": {
      "image/png": "[encoded data removed]",
      "text/plain": [
       "<Figure size 1080x2160 with 28 Axes>"
      ]
     },
     "metadata": {
      "needs_background": "light"
     },
     "output_type": "display_data"
    }
   ],
   "source": [
    "# TODO：画出特征分布的直方图\n",
    "fig = plt.figure(figsize=(15,30))\n",
    "features = list(data.drop(['label'],axis=1).columns)\n",
    "for i,col in enumerate(features):\n",
    "    axe = fig.add_subplot(np.ceil(len(features)/4),4,i+1)   \n",
    "    axe.hist(data[col],bins=20);\n",
    "    plt.title(col)"
   ]
  },
  {
   "cell_type": "markdown",
   "metadata": {},
   "source": [
    "## 3.特征工程\n",
    "通过观察数据我们发现：\n",
    "\n",
    "- 数据的量纲差距不大。\n",
    "- 数据不存在重复和缺失。\n",
    "- 特征均为连续值。\n"
   ]
  },
  {
   "cell_type": "markdown",
   "metadata": {},
   "source": [
    "首先分离特征和标签，并划分训练集和测试集，命名为X_train，X_test，y_train，y_test"
   ]
  },
  {
   "cell_type": "code",
   "execution_count": 11,
   "metadata": {},
   "outputs": [],
   "source": [
    "# TODO： 分离特征和标签，并按要求划分训练集和测试集\n",
    "from sklearn.model_selection import train_test_split\n",
    "X_train,X_test,y_train,y_test = train_test_split(data.drop(['label'],axis=1),data['label'],test_size = 0.2,random_state=0)"
   ]
  },
  {
   "cell_type": "markdown",
   "metadata": {},
   "source": [
    "## 连续特征的离散化\n",
    "- 方法一：使用等距离散化的方法，将连续特征按固定间隔分组\n",
    "- 方法二：使用等频离散化的方法，将连续特征按固定样本数分组"
   ]
  },
  {
   "cell_type": "markdown",
   "metadata": {},
   "source": [
    "方法一:<br>\n",
    "函数一是equal_distance_cut，他记录数据集分成几份时的界值，data为数据集，bins为份数<br>\n",
    "函数二是apply_on_train_and_test，他调用函数一记录训练集中的界值，并施加在训练集和测试集上进行分箱，并返回分箱后的训练集和测试集"
   ]
  },
  {
   "cell_type": "code",
   "execution_count": 12,
   "metadata": {},
   "outputs": [],
   "source": [
    "# 方法一示例\n",
    "def equal_distance_cut(data,bins):\n",
    "    Cutpoint = {}\n",
    "    for i in range(len(data.columns)):\n",
    "        cut = (np.max(data.iloc[:,i])-np.min(data.iloc[:,i]))/bins\n",
    "        Cutpointlist = []\n",
    "        for j in range((bins-1)):\n",
    "            cutpoint = np.min(data.iloc[:,i]) + (j+1)*cut\n",
    "            Cutpointlist.append(cutpoint)\n",
    "        Cutpoint[i] = Cutpointlist\n",
    "    return Cutpoint\n",
    "def apply_on_train_and_test(train, test, bins):\n",
    "    Cutpoint = equal_distance_cut(train,10)\n",
    "    train_set = pd.DataFrame(np.zeros_like(train),columns=train.columns,index=train.index)\n",
    "    test_set = pd.DataFrame(np.zeros_like(test),columns=test.columns,index=test.index)\n",
    "    for i in range(len(train.columns)):\n",
    "        for j in range((bins-1)):\n",
    "            train_set.iloc[:,i][train.iloc[:,i] > Cutpoint[i][j]]=j\n",
    "    for i in range(len(test.columns)):\n",
    "        for j in range((bins-1)):\n",
    "            test_set.iloc[:,i][test.iloc[:,i] > Cutpoint[i][j]]=j\n",
    "    return train_set, test_set\n",
    "X_train_split_1, X_test_split_1 = apply_on_train_and_test(X_train, X_test, 10)                   "
   ]
  },
  {
   "cell_type": "markdown",
   "metadata": {},
   "source": [
    "方法二:<br>\n",
    "函数equal_frequency_cut将数据排序后分成数份，train和test为数据集，bins为份数，并返回分箱后的训练集和测试集"
   ]
  },
  {
   "cell_type": "code",
   "execution_count": 13,
   "metadata": {},
   "outputs": [],
   "source": [
    "# 方法二示例\n",
    "def equal_frequency_cut(train, test, bins):\n",
    "    train_set = train.copy()\n",
    "    test_set = test.copy()\n",
    "    edages = pd.Series([i/bins for i in range(bins)]) \n",
    "    for col in train.columns:\n",
    "        train_set[col] = train_set[col].rank(pct=1).astype(float).apply(lambda x: (edages >= x).argmax())\n",
    "    for col in test.columns:\n",
    "        test_set[col] = test_set[col].rank(pct=1).astype(float).apply(lambda x: (edages >= x).argmax())\n",
    "    return train_set, test_set\n",
    "X_train_split_2, X_test_split_2 = equal_frequency_cut(X_train, X_test, 10) "
   ]
  },
  {
   "cell_type": "markdown",
   "metadata": {},
   "source": [
    "### 特征过滤\n",
    "\n",
    "- 可以选择在特征过滤前进行必要的数据规整\n",
    "\n",
    "#### 思路1.使用PCA进行降维"
   ]
  },
  {
   "cell_type": "code",
   "execution_count": 14,
   "metadata": {},
   "outputs": [],
   "source": [
    "#对训练集和测试集使用PCA进行降维,注意应自行决定保留特征数目\n",
    "from sklearn.decomposition import PCA\n",
    "pca = PCA(25)\n",
    "X_train_pca = pca.fit_transform(X_train)\n",
    "X_test_pca = pca.transform(X_test)"
   ]
  },
  {
   "cell_type": "markdown",
   "metadata": {},
   "source": [
    "#### 思路2.使用随机森林方法进行特征选择"
   ]
  },
  {
   "cell_type": "code",
   "execution_count": 15,
   "metadata": {},
   "outputs": [],
   "source": [
    "# TODO：使用一种方法进行特征选择\n",
    "from sklearn.ensemble import RandomForestClassifier\n",
    "rf = RandomForestClassifier(max_features=15,max_depth=10,n_estimators=1024,n_jobs=-1,random_state=0)\n",
    "rf.fit(X_train,y_train)\n",
    "imp = np.argsort(rf.feature_importances_)[::-1]\n",
    "imp_slct = imp[:25]\n",
    "X_train_slct=pd.DataFrame(X_train).iloc[:,imp_slct]"
   ]
  },
  {
   "cell_type": "markdown",
   "metadata": {},
   "source": [
    "---\n",
    "## 4. 选择模型进行交叉验证和网格搜索\n",
    "\n",
    "\n",
    "- 使用分类模型。\n",
    "- 注意模型对数据规整的需求。"
   ]
  },
  {
   "cell_type": "code",
   "execution_count": 16,
   "metadata": {},
   "outputs": [],
   "source": [
    "## TODO：模型选择、交叉验证、网格搜索\n",
    "clf_model = None"
   ]
  },
  {
   "cell_type": "markdown",
   "metadata": {},
   "source": [
    "这里以pca降维后的数据拟合随机森林模型作为演示:"
   ]
  },
  {
   "cell_type": "code",
   "execution_count": 17,
   "metadata": {},
   "outputs": [
    {
     "data": {
      "text/plain": [
       "RandomForestClassifier(max_depth=16, max_features=9, n_estimators=2048,\n",
       "                       n_jobs=-1, random_state=0)"
      ]
     },
     "execution_count": 17,
     "metadata": {},
     "output_type": "execute_result"
    }
   ],
   "source": [
    "# 分类模型\n",
    "from sklearn.ensemble import RandomForestClassifier\n",
    "clf_model = RandomForestClassifier(max_features=9,max_depth=16,n_estimators=2048,n_jobs=-1,random_state=0)\n",
    "clf_model.fit(X_train_pca,y_train)"
   ]
  },
  {
   "cell_type": "code",
   "execution_count": 18,
   "metadata": {},
   "outputs": [
    {
     "name": "stdout",
     "output_type": "stream",
     "text": [
      "分类模型：\n",
      "ml model auc score 0.986336\n",
      "---------------\n",
      "ml model accuracy score 0.895170\n",
      "\n",
      "随机模型：\n",
      "random model auc score 0.489636\n",
      "---------------\n",
      "ml model accuracy score 0.231244\n"
     ]
    }
   ],
   "source": [
    "# 分类模型测试集上效果\n",
    "# auc和混淆矩阵评估\n",
    "\n",
    "from sklearn.metrics import roc_auc_score, accuracy_score\n",
    "print('分类模型：')\n",
    "y_test_pred_clf = clf_model.predict_proba(X_test_pca)\n",
    "y_test_pred = clf_model.predict(X_test_pca)\n",
    "\n",
    "# 对标签one-hot编码后使用宏方法计算auc和acc，你也可以使用微方法\n",
    "print('ml model auc score {:.6f}'.format(roc_auc_score(pd.get_dummies(y_test),y_test_pred_clf,average='macro')))\n",
    "print('---------------')\n",
    "print('ml model accuracy score {:.6f}'.format(accuracy_score(y_test,y_test_pred)))\n",
    "\n",
    "print('\\n随机模型：')\n",
    "# 随机猜测函数对比\n",
    "y_test_random_clf = np.random.uniform(low=0.0,high=1.0,size=(len(y_test),4))\n",
    "y_test_random_pred = np.argmax(y_test_random_clf,axis=1)\n",
    "print('random model auc score {:.6f}'.format(roc_auc_score(pd.get_dummies(y_test),y_test_random_clf,average='macro')))\n",
    "print('---------------')\n",
    "print('ml model accuracy score {:.6f}'.format(accuracy_score(y_test,y_test_random_pred)))"
   ]
  },
  {
   "cell_type": "markdown",
   "metadata": {},
   "source": [
    "---\n",
    "## 5. 模型评价的深入思考<br>\n",
    "\n",
    "对于多分类模型，我们需要逐类查看预测效果<br>\n",
    "<br>\n",
    "- 代码将所有类别的ROC曲线分别呈现，也可以修改代码将他们在一张图上呈现"
   ]
  },
  {
   "cell_type": "code",
   "execution_count": 20,
   "metadata": {},
   "outputs": [
    {
     "data": {
      "text/plain": [
       "<Figure size 432x288 with 0 Axes>"
      ]
     },
     "metadata": {},
     "output_type": "display_data"
    },
    {
     "data": {
      "image/png": "[encoded data removed]",
      "text/plain": [
       "<Figure size 720x720 with 4 Axes>"
      ]
     },
     "metadata": {
      "needs_background": "light"
     },
     "output_type": "display_data"
    }
   ],
   "source": [
    "# 评价分类模型在测试集上预测各类别的效果\n",
    "# 计算各类别fpr和tpr\n",
    "from sklearn.metrics import roc_curve, auc\n",
    "fpr = dict()\n",
    "tpr = dict()\n",
    "thresholds = dict()\n",
    "roc_auc = dict()\n",
    "for i in range(4):\n",
    "    fpr[i], tpr[i], thresholds[i] = roc_curve(pd.get_dummies(y_test).iloc[:, i], y_test_pred_clf[:, i])\n",
    "    roc_auc[i] = auc(fpr[i], tpr[i])\n",
    "\n",
    "# 将4类的ROC曲线在4张子图呈现\n",
    "from itertools import cycle\n",
    "# Plot all ROC curves\n",
    "lw=2\n",
    "plt.figure()\n",
    "colors = cycle(['aqua', 'darkorange', 'cornflowerblue','red'])\n",
    "names = ['Move-Forward','Sharp-Right-Turn','Slight-Right-Turn','Slight-Left-Turn']\n",
    "fig = plt.figure(figsize=(10,10))\n",
    "for i, color in zip(range(4), colors):\n",
    "    axe = fig.add_subplot(2,2,i+1)\n",
    "    axe.plot(fpr[i], tpr[i], color=color, lw=lw,\n",
    "             label='ROC curve of class {0} (area = {1:0.2f})'.format(i, roc_auc[i]))\n",
    "    plt.plot([0, 1], [0, 1], 'k--', lw=lw)\n",
    "    plt.xlim([0.0, 1.0])\n",
    "    plt.ylim([0.0, 1.05])\n",
    "    plt.xlabel('False Positive Rate')\n",
    "    plt.ylabel('True Positive Rate')\n",
    "    plt.title('ROC for '+names[i])\n",
    "    plt.legend(loc=\"lower right\")\n",
    "plt.show()"
   ]
  },
  {
   "cell_type": "code",
   "execution_count": 21,
   "metadata": {},
   "outputs": [
    {
     "data": {
      "text/plain": [
       "<Figure size 432x288 with 0 Axes>"
      ]
     },
     "metadata": {},
     "output_type": "display_data"
    },
    {
     "data": {
      "image/png": "[encoded data removed]",
      "text/plain": [
       "<Figure size 720x720 with 1 Axes>"
      ]
     },
     "metadata": {
      "needs_background": "light"
     },
     "output_type": "display_data"
    }
   ],
   "source": [
    "# 将所有类别的ROC在一张图呈现\n",
    "lw=2\n",
    "plt.figure()\n",
    "colors = cycle(['aqua', 'darkorange', 'cornflowerblue','red'])\n",
    "names = ['Move-Forward','Sharp-Right-Turn','Slight-Right-Turn','Slight-Left-Turn']\n",
    "fig = plt.figure(figsize=(10,10))\n",
    "for i, color in zip(range(4), colors):\n",
    "    plt.plot(fpr[i], tpr[i], color=color, lw=lw,\n",
    "             label='ROC curve of class {0} (area = {1:0.2f})'.format(i, roc_auc[i]))\n",
    "    plt.plot([0, 1], [0, 1], 'k--', lw=lw)\n",
    "    plt.xlim([0.0, 1.0])\n",
    "    plt.ylim([0.0, 1.05])\n",
    "    plt.xlabel('False Positive Rate')\n",
    "    plt.ylabel('True Positive Rate')\n",
    "    plt.title('ROC for 4 class')\n",
    "    plt.legend(loc=\"lower right\")\n",
    "plt.show()"
   ]
  },
  {
   "cell_type": "markdown",
   "metadata": {},
   "source": [
    "\n"
   ]
  }
 ],
 "metadata": {
  "kernelspec": {
   "display_name": "Python 3",
   "language": "python",
   "name": "python3"
  },
  "language_info": {
   "codemirror_mode": {
    "name": "ipython",
    "version": 3
   },
   "file_extension": ".py",
   "mimetype": "text/x-python",
   "name": "python",
   "nbconvert_exporter": "python",
   "pygments_lexer": "ipython3",
   "version": "3.7.0"
  }
 },
 "nbformat": 4,
 "nbformat_minor": 2
}
